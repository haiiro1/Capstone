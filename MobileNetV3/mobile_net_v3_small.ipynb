{
 "cells": [
  {
   "cell_type": "code",
   "execution_count": 20,
   "id": "69e117e5",
   "metadata": {},
   "outputs": [],
   "source": [
    "import os\n",
    "import json\n",
    "import numpy as np\n",
    "import tensorflow as tf\n",
    "from tensorflow import keras\n",
    "from tensorflow.keras import layers\n",
    "from tensorflow.keras.layers import BatchNormalization\n",
    "\n",
    "import warnings\n",
    "warnings.filterwarnings(\"ignore\")"
   ]
  },
  {
   "cell_type": "code",
   "execution_count": 27,
   "id": "f72f3e9f",
   "metadata": {},
   "outputs": [],
   "source": [
    "#----------------\n",
    "# CONFIGURACIONES\n",
    "#----------------\n",
    "\n",
    "IMG_SIZE = (224,224)\n",
    "BATCH = 16\n",
    "EPOCHS_HEAD = 15\n",
    "EPOCHS_FT = 10\n",
    "DATA_DIR = 'tomato'\n",
    "CACHE_TRAIN = \"temp/train.cache\"\n",
    "CACHE_VAL = \"temp/val.cache\"\n",
    "\n",
    "LIMIT_THREADS = True\n",
    "USE_MIXED_PRECISION = False"
   ]
  },
  {
   "cell_type": "code",
   "execution_count": 22,
   "id": "265e6811",
   "metadata": {},
   "outputs": [],
   "source": [
    "gpus = tf.config.list_logical_devices('GPU')\n",
    "\n",
    "for g in gpus:\n",
    "    try:\n",
    "        tf.config.experimental.set_memory_growth(g, True)\n",
    "    except Exception:\n",
    "        pass\n",
    "\n",
    "if USE_MIXED_PRECISION and gpus:\n",
    "    from tensorflow.keras import mixed_precision\n",
    "    mixed_precision.set_global_policy('mixed_float16')"
   ]
  },
  {
   "cell_type": "code",
   "execution_count": 23,
   "id": "34394288",
   "metadata": {},
   "outputs": [
    {
     "name": "stdout",
     "output_type": "stream",
     "text": [
      "Found 10000 files belonging to 10 classes.\n",
      "Found 1000 files belonging to 10 classes.\n"
     ]
    }
   ],
   "source": [
    "train_ds = tf.keras.utils.image_dataset_from_directory(\n",
    "    os.path.join(DATA_DIR, 'train'),\n",
    "    image_size = IMG_SIZE,\n",
    "    batch_size = BATCH,\n",
    "    label_mode = 'int',\n",
    "    shuffle = True\n",
    ")\n",
    "\n",
    "val_ds = tf.keras.utils.image_dataset_from_directory(\n",
    "    os.path.join(DATA_DIR, 'val'),\n",
    "    image_size = IMG_SIZE,\n",
    "    batch_size = BATCH,\n",
    "    label_mode = 'int',\n",
    "    shuffle = False\n",
    ")\n",
    "\n",
    "\n",
    "class_names_en = train_ds.class_names\n",
    "\n",
    "\n",
    "train_ds = train_ds.cache(CACHE_TRAIN)\n",
    "val_ds = val_ds.cache(CACHE_VAL)\n",
    "\n",
    "train_ds = train_ds.prefetch(1)\n",
    "val_ds = val_ds.prefetch(1)\n",
    "\n",
    "if LIMIT_THREADS:\n",
    "    opt = tf.data.Options()\n",
    "    opt.threading.private_threadpool_size = 1\n",
    "    opt.threading.max_intra_op_parallelism = 1\n",
    "    #opt.threading.max_inter_op_parallelism = 1\n",
    "    opt.experimental_optimization.map_parallelization = False\n",
    "\n",
    "    train_ds = train_ds.with_options(opt)\n",
    "    val_ds = val_ds.with_options(opt)"
   ]
  },
  {
   "cell_type": "code",
   "execution_count": 24,
   "id": "be298754",
   "metadata": {},
   "outputs": [
    {
     "name": "stdout",
     "output_type": "stream",
     "text": [
      "Clases (EN): ['Tomato___Bacterial_spot', 'Tomato___Early_blight', 'Tomato___Late_blight', 'Tomato___Leaf_Mold', 'Tomato___Septoria_leaf_spot', 'Tomato___Spider_mites Two-spotted_spider_mite', 'Tomato___Target_Spot', 'Tomato___Tomato_Yellow_Leaf_Curl_Virus', 'Tomato___Tomato_mosaic_virus', 'Tomato___healthy']\n",
      "Clases (ES): ['Mancha bacteriana', 'Tizón temprano', 'Tizón tardío', 'Moho de la hoja', 'Mancha foliar por Septoria', 'Ácaro rojo de dos manchas', 'Mancha de tiro', 'Virus del rizado amarillo de la hoja del tomate', 'Virus del mosaico del tomate', 'Sano']\n"
     ]
    }
   ],
   "source": [
    "# ----------------\n",
    "# CLASES Y MAPEO\n",
    "# ----------------\n",
    "\n",
    "CLASS_MAP_ES = {\n",
    "    'Tomato___Bacterial_spot': 'Mancha bacteriana',\n",
    "    'Tomato___Early_blight': 'Tizón temprano',\n",
    "    'Tomato___healthy': 'Sano',\n",
    "    'Tomato___Late_blight': 'Tizón tardío',\n",
    "    'Tomato___Leaf_Mold': 'Moho de la hoja',\n",
    "    'Tomato___Septoria_leaf_spot': 'Mancha foliar por Septoria',\n",
    "    'Tomato___Spider_mites Two-spotted_spider_mite': 'Ácaro rojo de dos manchas',\n",
    "    'Tomato___Target_Spot': 'Mancha de tiro',\n",
    "    'Tomato___Tomato_mosaic_virus': 'Virus del mosaico del tomate',\n",
    "    'Tomato___Tomato_Yellow_Leaf_Curl_Virus': 'Virus del rizado amarillo de la hoja del tomate',\n",
    "}\n",
    "\n",
    "# validar cobertura\n",
    "\n",
    "missing = [c for c in class_names_en if c not in CLASS_MAP_ES]\n",
    "extra = [k for k in CLASS_MAP_ES if k not in class_names_en]\n",
    "\n",
    "assert not missing, f\"Faltan traducciones en CLASS_MAP_ES: {missing}\"\n",
    "\n",
    "if extra:\n",
    "    print(f\"Advertencia: hay entradas extra en CLASS_MAP_ES que no están en los datos: {extra}\")\n",
    "\n",
    "# Vector ixs -> ES según el orden real del dataset\n",
    "\n",
    "IDX2ES = [CLASS_MAP_ES[c] for c in class_names_en]\n",
    "num_classes = len(class_names_en)\n",
    "print(\"Clases (EN):\", class_names_en)\n",
    "print(\"Clases (ES):\", IDX2ES)"
   ]
  },
  {
   "cell_type": "code",
   "execution_count": 30,
   "id": "a6e37821",
   "metadata": {},
   "outputs": [
    {
     "name": "stdout",
     "output_type": "stream",
     "text": [
      "\n",
      "--- Entrenamiento Fase 1 (cabeza) ----\n",
      "Epoch 1/15\n",
      "\u001b[1m625/625\u001b[0m \u001b[32m━━━━━━━━━━━━━━━━━━━━\u001b[0m\u001b[37m\u001b[0m \u001b[1m62s\u001b[0m 92ms/step - accuracy: 0.7660 - loss: 0.6911 - val_accuracy: 0.8210 - val_loss: 0.4908 - learning_rate: 0.0010\n",
      "Epoch 2/15\n",
      "\u001b[1m625/625\u001b[0m \u001b[32m━━━━━━━━━━━━━━━━━━━━\u001b[0m\u001b[37m\u001b[0m \u001b[1m54s\u001b[0m 86ms/step - accuracy: 0.8689 - loss: 0.3905 - val_accuracy: 0.8770 - val_loss: 0.3551 - learning_rate: 0.0010\n",
      "Epoch 3/15\n",
      "\u001b[1m625/625\u001b[0m \u001b[32m━━━━━━━━━━━━━━━━━━━━\u001b[0m\u001b[37m\u001b[0m \u001b[1m54s\u001b[0m 86ms/step - accuracy: 0.8891 - loss: 0.3199 - val_accuracy: 0.8700 - val_loss: 0.3629 - learning_rate: 0.0010\n",
      "\n",
      "---- Entrenamiento Fase 2 (fine-tunig) ----\n",
      "Epoch 1/10\n",
      "\u001b[1m625/625\u001b[0m \u001b[32m━━━━━━━━━━━━━━━━━━━━\u001b[0m\u001b[37m\u001b[0m \u001b[1m105s\u001b[0m 152ms/step - accuracy: 0.9300 - loss: 0.2095 - val_accuracy: 0.9620 - val_loss: 0.1249 - learning_rate: 1.0000e-04\n",
      "Epoch 2/10\n",
      "\u001b[1m625/625\u001b[0m \u001b[32m━━━━━━━━━━━━━━━━━━━━\u001b[0m\u001b[37m\u001b[0m \u001b[1m97s\u001b[0m 155ms/step - accuracy: 0.9636 - loss: 0.1069 - val_accuracy: 0.9630 - val_loss: 0.1060 - learning_rate: 1.0000e-04\n",
      "Epoch 3/10\n",
      "\u001b[1m625/625\u001b[0m \u001b[32m━━━━━━━━━━━━━━━━━━━━\u001b[0m\u001b[37m\u001b[0m \u001b[1m93s\u001b[0m 149ms/step - accuracy: 0.9778 - loss: 0.0708 - val_accuracy: 0.9450 - val_loss: 0.1386 - learning_rate: 1.0000e-04\n",
      "\n",
      "---- Evaluación en validación ----\n",
      "\u001b[1m63/63\u001b[0m \u001b[32m━━━━━━━━━━━━━━━━━━━━\u001b[0m\u001b[37m\u001b[0m \u001b[1m4s\u001b[0m 61ms/step - accuracy: 0.9630 - loss: 0.1060\n",
      "Pérdida en validación: 0.1060; Precisión en validación: 0.9630\n"
     ]
    }
   ],
   "source": [
    "#--------------------------\n",
    "# Modelo: MobileNetV3 Small\n",
    "#--------------------------\n",
    "\n",
    "base = keras.applications.MobileNetV3Small(\n",
    "    input_shape = IMG_SIZE + (3,),\n",
    "    include_top = False,\n",
    "    weights = 'imagenet',\n",
    "    alpha = 1.0,\n",
    "    minimalistic = False\n",
    ")\n",
    "\n",
    "base.trainable = False\n",
    "\n",
    "preprocess = keras.applications.mobilenet_v3.preprocess_input\n",
    "\n",
    "inputs = keras.Input(shape = IMG_SIZE + (3,))\n",
    "\n",
    "x = keras.Sequential([\n",
    "    layers.RandomFlip(\"horizontal\"),\n",
    "    layers.RandomRotation(0.05),\n",
    "    layers.RandomZoom(0.1)\n",
    "], name = \"auf\")(inputs)\n",
    "x = preprocess(x)\n",
    "x = base(x, training  = False)\n",
    "x = layers.GlobalAveragePooling2D()(x)\n",
    "x = layers.Dropout(0.2)(x)\n",
    "x = layers.Dense(256, activation='relu')(x)\n",
    "outputs = layers.Dense(num_classes, activation=\"softmax\")(x)\n",
    "model = keras.Model(inputs, outputs)\n",
    "\n",
    "model.compile(\n",
    "    optimizer = keras.optimizers.Adam(1e-3),\n",
    "    loss = keras.losses.SparseCategoricalCrossentropy(),\n",
    "    metrics = [\"accuracy\"]\n",
    ")\n",
    "\n",
    "cbs_head = [\n",
    "    keras.callbacks.EarlyStopping(monitor = \"val_loss\", patience = 1, restore_best_weights= True),\n",
    "    keras.callbacks.ReduceLROnPlateau(monitor = \"val_loss\", factor = 0.5, patience= 1, min_lr=1e-6)\n",
    "]\n",
    "\n",
    "print(\"\\n--- Entrenamiento Fase 1 (cabeza) ----\")\n",
    "model.fit(train_ds, validation_data = val_ds, epochs = EPOCHS_HEAD, callbacks=cbs_head)\n",
    "\n",
    "# --------------------------------------------------------------------------------------\n",
    "# Fine-tuning: congelar BN y liberar N capas finales (no BN)\n",
    "# --------------------------------------------------------------------------------------\n",
    "\n",
    "for layer in base.layers:\n",
    "    if not isinstance(layer, BatchNormalization):\n",
    "        layer.trainable = True\n",
    "\n",
    "model.compile(\n",
    "    optimizer = keras.optimizers.Adam(1e-4),\n",
    "    loss = keras.losses.SparseCategoricalCrossentropy(),\n",
    "    metrics = [\"accuracy\"]\n",
    ")\n",
    "\n",
    "cbs_ft = [\n",
    "    keras.callbacks.EarlyStopping(monitor = \"val_loss\", patience = 1, restore_best_weights= True),\n",
    "    keras.callbacks.ReduceLROnPlateau(monitor = \"val_loss\", factor = 0.5, patience= 1)\n",
    "]\n",
    "\n",
    "print(\"\\n---- Entrenamiento Fase 2 (fine-tunig) ----\")\n",
    "model.fit(train_ds, validation_data = val_ds, epochs = EPOCHS_FT, callbacks = cbs_ft)\n",
    "\n",
    "print(\"\\n---- Evaluación en validación ----\")\n",
    "validation_loss, validation_acc = model.evaluate(val_ds)\n",
    "\n",
    "print(f\"Pérdida en validación: {validation_loss:.4f}; Precisión en validación: {validation_acc:.4f}\")"
   ]
  },
  {
   "cell_type": "code",
   "execution_count": 31,
   "id": "8d2e9c01",
   "metadata": {},
   "outputs": [],
   "source": [
    "# ----------------------\n",
    "# GUARDAR MODELO Y MAPEO\n",
    "# ----------------------\n",
    "\n",
    "model.save('mobileNetV3Small.keras')\n",
    "\n",
    "with open('class_map_es.json', 'w',encoding='utf-8') as f:\n",
    "    json.dump(\n",
    "        {\"class_names_en\": class_names_en, \"class_names_es\": IDX2ES},\n",
    "        f,\n",
    "        ensure_ascii=False,\n",
    "        indent = 2\n",
    "    )"
   ]
  },
  {
   "cell_type": "code",
   "execution_count": 32,
   "id": "61e23a0a",
   "metadata": {},
   "outputs": [],
   "source": [
    "# ------------------------\n",
    "# UTILIDADES DE PREDICCIÓN\n",
    "# ------------------------\n",
    "\n",
    "def decode_top1_es(probs):\n",
    "    idx = int(np.argmax(probs))\n",
    "    return IDX2ES[idx], float(probs[idx])\n",
    "\n",
    "def predict_file_es(path):\n",
    "    img = keras.utils.load_img(path, target_size = IMG_SIZE)\n",
    "    arr = keras.utils.img_to_array(img)[None, ...]\n",
    "    arr = keras.applications.mobilenet_v3.preprocess_input(arr)\n",
    "    probs = model.predict(arr,verbose = 0)[0]\n",
    "    return decode_top1_es(probs)"
   ]
  },
  {
   "cell_type": "code",
   "execution_count": 34,
   "id": "98e97205",
   "metadata": {},
   "outputs": [
    {
     "name": "stdout",
     "output_type": "stream",
     "text": [
      "Mancha de tiro 0.9991484880447388\n"
     ]
    }
   ],
   "source": [
    "img_path = '/mnt/d/Capstone/MobileNetV3/tomato/val/Tomato___Target_Spot/0a2de4c5-d688-4f9d-9107-ace1d281c307___Com.G_TgS_FL 7941.JPG'\n",
    "etiqueta_es, prob = predict_file_es(img_path)\n",
    "print(etiqueta_es, prob)"
   ]
  }
 ],
 "metadata": {
  "kernelspec": {
   "display_name": "mnV3-env",
   "language": "python",
   "name": "python3"
  },
  "language_info": {
   "codemirror_mode": {
    "name": "ipython",
    "version": 3
   },
   "file_extension": ".py",
   "mimetype": "text/x-python",
   "name": "python",
   "nbconvert_exporter": "python",
   "pygments_lexer": "ipython3",
   "version": "3.13.7"
  }
 },
 "nbformat": 4,
 "nbformat_minor": 5
}
